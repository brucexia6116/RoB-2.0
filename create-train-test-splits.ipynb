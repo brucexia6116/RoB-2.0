{
 "cells": [
  {
   "cell_type": "code",
   "execution_count": 1,
   "metadata": {
    "collapsed": true
   },
   "outputs": [],
   "source": [
    "import pandas as pd"
   ]
  },
  {
   "cell_type": "code",
   "execution_count": 2,
   "metadata": {},
   "outputs": [
    {
     "data": {
      "text/html": [
       "<div>\n",
       "<style>\n",
       "    .dataframe thead tr:only-child th {\n",
       "        text-align: right;\n",
       "    }\n",
       "\n",
       "    .dataframe thead th {\n",
       "        text-align: left;\n",
       "    }\n",
       "\n",
       "    .dataframe tbody tr th {\n",
       "        vertical-align: top;\n",
       "    }\n",
       "</style>\n",
       "<table border=\"1\" class=\"dataframe\">\n",
       "  <thead>\n",
       "    <tr style=\"text-align: right;\">\n",
       "      <th></th>\n",
       "      <th>cdno</th>\n",
       "      <th>study_id</th>\n",
       "      <th>pmid</th>\n",
       "      <th>doi</th>\n",
       "      <th>fulltext_source</th>\n",
       "      <th>Random sequence generation-judgment</th>\n",
       "      <th>Random sequence generation-rationale</th>\n",
       "      <th>Allocation concealment-judgment</th>\n",
       "      <th>Allocation concealment-rationale</th>\n",
       "      <th>Blinding of participants and personnel-mortality-judgment</th>\n",
       "      <th>...</th>\n",
       "      <th>Blinding of outcome assessment-mortality-judgment</th>\n",
       "      <th>Blinding of outcome assessment-mortality-rationale</th>\n",
       "      <th>Blinding of outcome assessment-objective-judgment</th>\n",
       "      <th>Blinding of outcome assessment-objective-rationale</th>\n",
       "      <th>Blinding of outcome assessment-subjective-judgment</th>\n",
       "      <th>Blinding of outcome assessment-subjective-rationale</th>\n",
       "      <th>Blinding of outcome assessment-all-judgment</th>\n",
       "      <th>Blinding of outcome assessment-all-rationale</th>\n",
       "      <th>fulltext</th>\n",
       "      <th>uid</th>\n",
       "    </tr>\n",
       "  </thead>\n",
       "  <tbody>\n",
       "    <tr>\n",
       "      <th>0</th>\n",
       "      <td>CD011275</td>\n",
       "      <td>STD-Buchbinder-2007</td>\n",
       "      <td>17665470.0</td>\n",
       "      <td>10.1002/art.22892</td>\n",
       "      <td>local</td>\n",
       "      <td>low</td>\n",
       "      <td>Quote: \"Consenting, eligible participants were...</td>\n",
       "      <td>low</td>\n",
       "      <td>Quote: \"To ensure treatment allocation conceal...</td>\n",
       "      <td>unk</td>\n",
       "      <td>...</td>\n",
       "      <td>unk</td>\n",
       "      <td>unk</td>\n",
       "      <td>low</td>\n",
       "      <td>Quote: \"Between March 2002 and April 2005, we ...</td>\n",
       "      <td>low</td>\n",
       "      <td>Quote: \"Between March 2002 and April 2005, we ...</td>\n",
       "      <td>unk</td>\n",
       "      <td>unk</td>\n",
       "      <td>Arthritis &amp; Rheumatism (Arthritis Care &amp; Resea...</td>\n",
       "      <td>17665470</td>\n",
       "    </tr>\n",
       "    <tr>\n",
       "      <th>1</th>\n",
       "      <td>CD011275</td>\n",
       "      <td>STD-Carette-2003</td>\n",
       "      <td>12632439.0</td>\n",
       "      <td>10.1002/art.10954</td>\n",
       "      <td>crossref_fulltexts</td>\n",
       "      <td>low</td>\n",
       "      <td>Quote: \"The assignment scheme was generated fr...</td>\n",
       "      <td>low</td>\n",
       "      <td>Quote: \"The opaque prenumbered envelopes conta...</td>\n",
       "      <td>unk</td>\n",
       "      <td>...</td>\n",
       "      <td>unk</td>\n",
       "      <td>unk</td>\n",
       "      <td>low</td>\n",
       "      <td>Quote: \"Each subject was assessed by the same ...</td>\n",
       "      <td>high</td>\n",
       "      <td>Comment: Participants self-reported their SPAD...</td>\n",
       "      <td>unk</td>\n",
       "      <td>unk</td>\n",
       "      <td>ARTHRITIS &amp; RHEUMATISM Vol. 48, No. 3, March 2...</td>\n",
       "      <td>12632439</td>\n",
       "    </tr>\n",
       "    <tr>\n",
       "      <th>2</th>\n",
       "      <td>CD011275</td>\n",
       "      <td>STD-Dacre-1989</td>\n",
       "      <td>2712613.0</td>\n",
       "      <td>10.1136/ard.48.4.322</td>\n",
       "      <td>scraped_fulltexts</td>\n",
       "      <td>unclear</td>\n",
       "      <td>Quote: \"Patients were randomly allocated to re...</td>\n",
       "      <td>unclear</td>\n",
       "      <td>Comment: No information was reported about how...</td>\n",
       "      <td>unk</td>\n",
       "      <td>...</td>\n",
       "      <td>unk</td>\n",
       "      <td>unk</td>\n",
       "      <td>low</td>\n",
       "      <td>Quote: \"Patients were assessed initially, at s...</td>\n",
       "      <td>high</td>\n",
       "      <td>Comment: Unblinded participants, who may have ...</td>\n",
       "      <td>unk</td>\n",
       "      <td>unk</td>\n",
       "      <td>Downloaded from http://ard.bmj.com/ on June 28...</td>\n",
       "      <td>2712613</td>\n",
       "    </tr>\n",
       "    <tr>\n",
       "      <th>3</th>\n",
       "      <td>CD011275</td>\n",
       "      <td>STD-Ryans-2005</td>\n",
       "      <td>15657070.0</td>\n",
       "      <td>10.1093/rheumatology/keh535</td>\n",
       "      <td>scraped_fulltexts</td>\n",
       "      <td>low</td>\n",
       "      <td>Quote: \"Subjects were randomly allocated in pe...</td>\n",
       "      <td>low</td>\n",
       "      <td>Comment: See quote above. An adequate method w...</td>\n",
       "      <td>unk</td>\n",
       "      <td>...</td>\n",
       "      <td>unk</td>\n",
       "      <td>unk</td>\n",
       "      <td>low</td>\n",
       "      <td>Quote: \"Injections were provided in opaque syr...</td>\n",
       "      <td>high</td>\n",
       "      <td>Comment: Participants self-reported pain, gene...</td>\n",
       "      <td>unk</td>\n",
       "      <td>unk</td>\n",
       "      <td>Rheumatology 2005;44:529–535\\n\\ndoi:10.1093/rh...</td>\n",
       "      <td>15657070</td>\n",
       "    </tr>\n",
       "    <tr>\n",
       "      <th>4</th>\n",
       "      <td>CD011275</td>\n",
       "      <td>STD-Tanaka-2010</td>\n",
       "      <td>20585816.0</td>\n",
       "      <td>10.1007/s10067-010-1525-0</td>\n",
       "      <td>scraped_fulltexts</td>\n",
       "      <td>unclear</td>\n",
       "      <td>Quote: \"From the frequency of sessions for joi...</td>\n",
       "      <td>unclear</td>\n",
       "      <td>Comment: No information was reported on how th...</td>\n",
       "      <td>unk</td>\n",
       "      <td>...</td>\n",
       "      <td>unk</td>\n",
       "      <td>unk</td>\n",
       "      <td>low</td>\n",
       "      <td>Quote: \"ROM was measured every week by one exa...</td>\n",
       "      <td>unclear</td>\n",
       "      <td>–</td>\n",
       "      <td>unk</td>\n",
       "      <td>unk</td>\n",
       "      <td>Clin Rheumatol (2010) 29:1439–1444\\nDOI 10.100...</td>\n",
       "      <td>20585816</td>\n",
       "    </tr>\n",
       "  </tbody>\n",
       "</table>\n",
       "<p>5 rows × 27 columns</p>\n",
       "</div>"
      ],
      "text/plain": [
       "       cdno             study_id        pmid                          doi  \\\n",
       "0  CD011275  STD-Buchbinder-2007  17665470.0            10.1002/art.22892   \n",
       "1  CD011275     STD-Carette-2003  12632439.0            10.1002/art.10954   \n",
       "2  CD011275       STD-Dacre-1989   2712613.0         10.1136/ard.48.4.322   \n",
       "3  CD011275       STD-Ryans-2005  15657070.0  10.1093/rheumatology/keh535   \n",
       "4  CD011275      STD-Tanaka-2010  20585816.0    10.1007/s10067-010-1525-0   \n",
       "\n",
       "      fulltext_source Random sequence generation-judgment  \\\n",
       "0               local                                 low   \n",
       "1  crossref_fulltexts                                 low   \n",
       "2   scraped_fulltexts                             unclear   \n",
       "3   scraped_fulltexts                                 low   \n",
       "4   scraped_fulltexts                             unclear   \n",
       "\n",
       "                Random sequence generation-rationale  \\\n",
       "0  Quote: \"Consenting, eligible participants were...   \n",
       "1  Quote: \"The assignment scheme was generated fr...   \n",
       "2  Quote: \"Patients were randomly allocated to re...   \n",
       "3  Quote: \"Subjects were randomly allocated in pe...   \n",
       "4  Quote: \"From the frequency of sessions for joi...   \n",
       "\n",
       "  Allocation concealment-judgment  \\\n",
       "0                             low   \n",
       "1                             low   \n",
       "2                         unclear   \n",
       "3                             low   \n",
       "4                         unclear   \n",
       "\n",
       "                    Allocation concealment-rationale  \\\n",
       "0  Quote: \"To ensure treatment allocation conceal...   \n",
       "1  Quote: \"The opaque prenumbered envelopes conta...   \n",
       "2  Comment: No information was reported about how...   \n",
       "3  Comment: See quote above. An adequate method w...   \n",
       "4  Comment: No information was reported on how th...   \n",
       "\n",
       "  Blinding of participants and personnel-mortality-judgment    ...     \\\n",
       "0                                                unk           ...      \n",
       "1                                                unk           ...      \n",
       "2                                                unk           ...      \n",
       "3                                                unk           ...      \n",
       "4                                                unk           ...      \n",
       "\n",
       "  Blinding of outcome assessment-mortality-judgment  \\\n",
       "0                                               unk   \n",
       "1                                               unk   \n",
       "2                                               unk   \n",
       "3                                               unk   \n",
       "4                                               unk   \n",
       "\n",
       "  Blinding of outcome assessment-mortality-rationale  \\\n",
       "0                                                unk   \n",
       "1                                                unk   \n",
       "2                                                unk   \n",
       "3                                                unk   \n",
       "4                                                unk   \n",
       "\n",
       "  Blinding of outcome assessment-objective-judgment  \\\n",
       "0                                               low   \n",
       "1                                               low   \n",
       "2                                               low   \n",
       "3                                               low   \n",
       "4                                               low   \n",
       "\n",
       "  Blinding of outcome assessment-objective-rationale  \\\n",
       "0  Quote: \"Between March 2002 and April 2005, we ...   \n",
       "1  Quote: \"Each subject was assessed by the same ...   \n",
       "2  Quote: \"Patients were assessed initially, at s...   \n",
       "3  Quote: \"Injections were provided in opaque syr...   \n",
       "4  Quote: \"ROM was measured every week by one exa...   \n",
       "\n",
       "  Blinding of outcome assessment-subjective-judgment  \\\n",
       "0                                                low   \n",
       "1                                               high   \n",
       "2                                               high   \n",
       "3                                               high   \n",
       "4                                            unclear   \n",
       "\n",
       "  Blinding of outcome assessment-subjective-rationale  \\\n",
       "0  Quote: \"Between March 2002 and April 2005, we ...    \n",
       "1  Comment: Participants self-reported their SPAD...    \n",
       "2  Comment: Unblinded participants, who may have ...    \n",
       "3  Comment: Participants self-reported pain, gene...    \n",
       "4                                                  –    \n",
       "\n",
       "  Blinding of outcome assessment-all-judgment  \\\n",
       "0                                         unk   \n",
       "1                                         unk   \n",
       "2                                         unk   \n",
       "3                                         unk   \n",
       "4                                         unk   \n",
       "\n",
       "  Blinding of outcome assessment-all-rationale  \\\n",
       "0                                          unk   \n",
       "1                                          unk   \n",
       "2                                          unk   \n",
       "3                                          unk   \n",
       "4                                          unk   \n",
       "\n",
       "                                            fulltext       uid  \n",
       "0  Arthritis & Rheumatism (Arthritis Care & Resea...  17665470  \n",
       "1  ARTHRITIS & RHEUMATISM Vol. 48, No. 3, March 2...  12632439  \n",
       "2  Downloaded from http://ard.bmj.com/ on June 28...   2712613  \n",
       "3  Rheumatology 2005;44:529–535\\n\\ndoi:10.1093/rh...  15657070  \n",
       "4  Clin Rheumatol (2010) 29:1439–1444\\nDOI 10.100...  20585816  \n",
       "\n",
       "[5 rows x 27 columns]"
      ]
     },
     "execution_count": 2,
     "metadata": {},
     "output_type": "execute_result"
    }
   ],
   "source": [
    "data_path = \"data/RoB-data-w-uids.csv\"\n",
    "df = pd.read_csv(data_path, chunksize=10000)\n",
    "df = pd.concat(df, ignore_index=True)\n",
    "df.head()"
   ]
  },
  {
   "cell_type": "code",
   "execution_count": 3,
   "metadata": {
    "collapsed": true
   },
   "outputs": [],
   "source": [
    "def get_duplicate_ids():\n",
    "    '''\n",
    "    Assemble data for testing\n",
    "    '''\n",
    "    duplicate_uids = []\n",
    "    for idx, row in df.iterrows():\n",
    "        cur_cdno = row['cdno']\n",
    "        cur_uid = row['uid']\n",
    "        # duplicates are studies w/same uid but in *different*\n",
    "        # review\n",
    "        cur_duplicates = df[(df['uid'] == cur_uid) & (df['cdno'] != cur_cdno)]\n",
    "        if len(cur_duplicates) > 0:\n",
    "            duplicate_uids.append(cur_uid)\n",
    "\n",
    "    return list(set(duplicate_uids))\n"
   ]
  },
  {
   "cell_type": "code",
   "execution_count": 4,
   "metadata": {
    "collapsed": true
   },
   "outputs": [],
   "source": [
    "test_ids = get_duplicate_ids()"
   ]
  },
  {
   "cell_type": "code",
   "execution_count": 5,
   "metadata": {},
   "outputs": [
    {
     "data": {
      "text/plain": [
       "3112"
      ]
     },
     "execution_count": 5,
     "metadata": {},
     "output_type": "execute_result"
    }
   ],
   "source": [
    "len(test_ids)"
   ]
  },
  {
   "cell_type": "code",
   "execution_count": 14,
   "metadata": {},
   "outputs": [
    {
     "data": {
      "text/html": [
       "<div>\n",
       "<style>\n",
       "    .dataframe thead tr:only-child th {\n",
       "        text-align: right;\n",
       "    }\n",
       "\n",
       "    .dataframe thead th {\n",
       "        text-align: left;\n",
       "    }\n",
       "\n",
       "    .dataframe tbody tr th {\n",
       "        vertical-align: top;\n",
       "    }\n",
       "</style>\n",
       "<table border=\"1\" class=\"dataframe\">\n",
       "  <thead>\n",
       "    <tr style=\"text-align: right;\">\n",
       "      <th></th>\n",
       "      <th>cdno</th>\n",
       "      <th>study_id</th>\n",
       "      <th>pmid</th>\n",
       "      <th>doi</th>\n",
       "      <th>fulltext_source</th>\n",
       "      <th>Random sequence generation-judgment</th>\n",
       "      <th>Random sequence generation-rationale</th>\n",
       "      <th>Allocation concealment-judgment</th>\n",
       "      <th>Allocation concealment-rationale</th>\n",
       "      <th>Blinding of participants and personnel-mortality-judgment</th>\n",
       "      <th>...</th>\n",
       "      <th>Blinding of outcome assessment-mortality-judgment</th>\n",
       "      <th>Blinding of outcome assessment-mortality-rationale</th>\n",
       "      <th>Blinding of outcome assessment-objective-judgment</th>\n",
       "      <th>Blinding of outcome assessment-objective-rationale</th>\n",
       "      <th>Blinding of outcome assessment-subjective-judgment</th>\n",
       "      <th>Blinding of outcome assessment-subjective-rationale</th>\n",
       "      <th>Blinding of outcome assessment-all-judgment</th>\n",
       "      <th>Blinding of outcome assessment-all-rationale</th>\n",
       "      <th>fulltext</th>\n",
       "      <th>uid</th>\n",
       "    </tr>\n",
       "  </thead>\n",
       "  <tbody>\n",
       "    <tr>\n",
       "      <th>13584</th>\n",
       "      <td>CD009642</td>\n",
       "      <td>STD-Mitchell-1999</td>\n",
       "      <td>19231397.0</td>\n",
       "      <td>10.1016/S0003-4975(99)00057-0</td>\n",
       "      <td>crossref_fulltexts</td>\n",
       "      <td>unclear</td>\n",
       "      <td>Quote: \"Patients were block randomized by surg...</td>\n",
       "      <td>low</td>\n",
       "      <td>Quote: \"The medication was repackaged by a pha...</td>\n",
       "      <td>unk</td>\n",
       "      <td>...</td>\n",
       "      <td>unk</td>\n",
       "      <td>unk</td>\n",
       "      <td>unk</td>\n",
       "      <td>unk</td>\n",
       "      <td>unk</td>\n",
       "      <td>unk</td>\n",
       "      <td>unclear</td>\n",
       "      <td>No statement on blinding of outcome assessors.</td>\n",
       "      <td>https://api.elsevier.com/content/article/pii/S...</td>\n",
       "      <td>19231397</td>\n",
       "    </tr>\n",
       "    <tr>\n",
       "      <th>13585</th>\n",
       "      <td>CD009642</td>\n",
       "      <td>STD-Mitchell-2009</td>\n",
       "      <td>19231397.0</td>\n",
       "      <td>10.1016/j.athoracsur.2008.12.042</td>\n",
       "      <td>crossref_fulltexts</td>\n",
       "      <td>unclear</td>\n",
       "      <td>Quote: \"A collaborator who had no other role i...</td>\n",
       "      <td>low</td>\n",
       "      <td>Quote: \"This sequence was concealed from the p...</td>\n",
       "      <td>unk</td>\n",
       "      <td>...</td>\n",
       "      <td>unk</td>\n",
       "      <td>unk</td>\n",
       "      <td>unk</td>\n",
       "      <td>unk</td>\n",
       "      <td>unk</td>\n",
       "      <td>unk</td>\n",
       "      <td>unclear</td>\n",
       "      <td>No statement on blinding of outcome assessors.</td>\n",
       "      <td>https://api.elsevier.com/content/article/pii/S...</td>\n",
       "      <td>19231397</td>\n",
       "    </tr>\n",
       "  </tbody>\n",
       "</table>\n",
       "<p>2 rows × 27 columns</p>\n",
       "</div>"
      ],
      "text/plain": [
       "           cdno           study_id        pmid  \\\n",
       "13584  CD009642  STD-Mitchell-1999  19231397.0   \n",
       "13585  CD009642  STD-Mitchell-2009  19231397.0   \n",
       "\n",
       "                                    doi     fulltext_source  \\\n",
       "13584     10.1016/S0003-4975(99)00057-0  crossref_fulltexts   \n",
       "13585  10.1016/j.athoracsur.2008.12.042  crossref_fulltexts   \n",
       "\n",
       "      Random sequence generation-judgment  \\\n",
       "13584                             unclear   \n",
       "13585                             unclear   \n",
       "\n",
       "                    Random sequence generation-rationale  \\\n",
       "13584  Quote: \"Patients were block randomized by surg...   \n",
       "13585  Quote: \"A collaborator who had no other role i...   \n",
       "\n",
       "      Allocation concealment-judgment  \\\n",
       "13584                             low   \n",
       "13585                             low   \n",
       "\n",
       "                        Allocation concealment-rationale  \\\n",
       "13584  Quote: \"The medication was repackaged by a pha...   \n",
       "13585  Quote: \"This sequence was concealed from the p...   \n",
       "\n",
       "      Blinding of participants and personnel-mortality-judgment    ...     \\\n",
       "13584                                                unk           ...      \n",
       "13585                                                unk           ...      \n",
       "\n",
       "      Blinding of outcome assessment-mortality-judgment  \\\n",
       "13584                                               unk   \n",
       "13585                                               unk   \n",
       "\n",
       "      Blinding of outcome assessment-mortality-rationale  \\\n",
       "13584                                                unk   \n",
       "13585                                                unk   \n",
       "\n",
       "      Blinding of outcome assessment-objective-judgment  \\\n",
       "13584                                               unk   \n",
       "13585                                               unk   \n",
       "\n",
       "      Blinding of outcome assessment-objective-rationale  \\\n",
       "13584                                                unk   \n",
       "13585                                                unk   \n",
       "\n",
       "      Blinding of outcome assessment-subjective-judgment  \\\n",
       "13584                                                unk   \n",
       "13585                                                unk   \n",
       "\n",
       "      Blinding of outcome assessment-subjective-rationale  \\\n",
       "13584                                                unk    \n",
       "13585                                                unk    \n",
       "\n",
       "      Blinding of outcome assessment-all-judgment  \\\n",
       "13584                                     unclear   \n",
       "13585                                     unclear   \n",
       "\n",
       "         Blinding of outcome assessment-all-rationale  \\\n",
       "13584  No statement on blinding of outcome assessors.   \n",
       "13585  No statement on blinding of outcome assessors.   \n",
       "\n",
       "                                                fulltext       uid  \n",
       "13584  https://api.elsevier.com/content/article/pii/S...  19231397  \n",
       "13585  https://api.elsevier.com/content/article/pii/S...  19231397  \n",
       "\n",
       "[2 rows x 27 columns]"
      ]
     },
     "execution_count": 14,
     "metadata": {},
     "output_type": "execute_result"
    }
   ],
   "source": [
    "df[(df['uid'] == '19231397')]"
   ]
  },
  {
   "cell_type": "code",
   "execution_count": 8,
   "metadata": {},
   "outputs": [
    {
     "data": {
      "text/plain": [
       "False"
      ]
     },
     "execution_count": 8,
     "metadata": {},
     "output_type": "execute_result"
    }
   ],
   "source": [
    "\"21403575\" in test_ids"
   ]
  },
  {
   "cell_type": "code",
   "execution_count": 6,
   "metadata": {
    "collapsed": true
   },
   "outputs": [],
   "source": [
    "formatted_df = pd.read_csv(\"data/RoB-data-3-30-w-rationale-strings.csv\", chunksize=10000) #pd.read_csv(\"data/RoB-data-formatted.csv\", chunksize=10000)\n",
    "formatted_df = pd.concat(formatted_df, ignore_index=True)"
   ]
  },
  {
   "cell_type": "code",
   "execution_count": 7,
   "metadata": {},
   "outputs": [
    {
     "data": {
      "text/html": [
       "<div>\n",
       "<style>\n",
       "    .dataframe thead tr:only-child th {\n",
       "        text-align: right;\n",
       "    }\n",
       "\n",
       "    .dataframe thead th {\n",
       "        text-align: left;\n",
       "    }\n",
       "\n",
       "    .dataframe tbody tr th {\n",
       "        vertical-align: top;\n",
       "    }\n",
       "</style>\n",
       "<table border=\"1\" class=\"dataframe\">\n",
       "  <thead>\n",
       "    <tr style=\"text-align: right;\">\n",
       "      <th></th>\n",
       "      <th>Unnamed: 0</th>\n",
       "      <th>ac-doc-judgment</th>\n",
       "      <th>ac-rationale</th>\n",
       "      <th>boa-doc-judgment-all</th>\n",
       "      <th>boa-doc-judgment-mortality</th>\n",
       "      <th>boa-doc-judgment-objective</th>\n",
       "      <th>boa-doc-judgment-subjective</th>\n",
       "      <th>boa-rationale-all</th>\n",
       "      <th>boa-rationale-mortality</th>\n",
       "      <th>boa-rationale-objective</th>\n",
       "      <th>...</th>\n",
       "      <th>bpp-rationale-all</th>\n",
       "      <th>bpp-rationale-mortality</th>\n",
       "      <th>bpp-rationale-objective</th>\n",
       "      <th>bpp-rationale-subjective</th>\n",
       "      <th>doc_id</th>\n",
       "      <th>doi</th>\n",
       "      <th>pmid</th>\n",
       "      <th>rsg-doc-judgment</th>\n",
       "      <th>rsg-rationale</th>\n",
       "      <th>sentence</th>\n",
       "    </tr>\n",
       "  </thead>\n",
       "  <tbody>\n",
       "    <tr>\n",
       "      <th>0</th>\n",
       "      <td>0</td>\n",
       "      <td>low</td>\n",
       "      <td>To ensure treatment allocation concealment, ju...</td>\n",
       "      <td>unk</td>\n",
       "      <td>unk</td>\n",
       "      <td>low</td>\n",
       "      <td>low</td>\n",
       "      <td>[missing]</td>\n",
       "      <td>[missing]</td>\n",
       "      <td>Between March 2002 and April 2005, we performe...</td>\n",
       "      <td>...</td>\n",
       "      <td>Thirty-nine participants (53%) in the active g...</td>\n",
       "      <td>[missing]</td>\n",
       "      <td>[missing]</td>\n",
       "      <td>[missing]</td>\n",
       "      <td>17665470</td>\n",
       "      <td>10.1002/art.22892</td>\n",
       "      <td>17665470.0</td>\n",
       "      <td>low</td>\n",
       "      <td>Consenting, eligible participants were randomi...</td>\n",
       "      <td>Arthritis &amp; Rheumatism (Arthritis Care &amp; Resea...</td>\n",
       "    </tr>\n",
       "    <tr>\n",
       "      <th>1</th>\n",
       "      <td>1</td>\n",
       "      <td>low</td>\n",
       "      <td>To ensure treatment allocation concealment, ju...</td>\n",
       "      <td>unk</td>\n",
       "      <td>unk</td>\n",
       "      <td>low</td>\n",
       "      <td>low</td>\n",
       "      <td>[missing]</td>\n",
       "      <td>[missing]</td>\n",
       "      <td>Between March 2002 and April 2005, we performe...</td>\n",
       "      <td>...</td>\n",
       "      <td>Thirty-nine participants (53%) in the active g...</td>\n",
       "      <td>[missing]</td>\n",
       "      <td>[missing]</td>\n",
       "      <td>[missing]</td>\n",
       "      <td>17665470</td>\n",
       "      <td>10.1002/art.22892</td>\n",
       "      <td>17665470.0</td>\n",
       "      <td>low</td>\n",
       "      <td>Consenting, eligible participants were randomi...</td>\n",
       "      <td>57,</td>\n",
       "    </tr>\n",
       "    <tr>\n",
       "      <th>2</th>\n",
       "      <td>2</td>\n",
       "      <td>low</td>\n",
       "      <td>To ensure treatment allocation concealment, ju...</td>\n",
       "      <td>unk</td>\n",
       "      <td>unk</td>\n",
       "      <td>low</td>\n",
       "      <td>low</td>\n",
       "      <td>[missing]</td>\n",
       "      <td>[missing]</td>\n",
       "      <td>Between March 2002 and April 2005, we performe...</td>\n",
       "      <td>...</td>\n",
       "      <td>Thirty-nine participants (53%) in the active g...</td>\n",
       "      <td>[missing]</td>\n",
       "      <td>[missing]</td>\n",
       "      <td>[missing]</td>\n",
       "      <td>17665470</td>\n",
       "      <td>10.1002/art.22892</td>\n",
       "      <td>17665470.0</td>\n",
       "      <td>low</td>\n",
       "      <td>Consenting, eligible participants were randomi...</td>\n",
       "      <td>No. 6, August 15, 2007, pp 1027–1037 DOI 10.10...</td>\n",
       "    </tr>\n",
       "    <tr>\n",
       "      <th>3</th>\n",
       "      <td>3</td>\n",
       "      <td>low</td>\n",
       "      <td>To ensure treatment allocation concealment, ju...</td>\n",
       "      <td>unk</td>\n",
       "      <td>unk</td>\n",
       "      <td>low</td>\n",
       "      <td>low</td>\n",
       "      <td>[missing]</td>\n",
       "      <td>[missing]</td>\n",
       "      <td>Between March 2002 and April 2005, we performe...</td>\n",
       "      <td>...</td>\n",
       "      <td>Thirty-nine participants (53%) in the active g...</td>\n",
       "      <td>[missing]</td>\n",
       "      <td>[missing]</td>\n",
       "      <td>[missing]</td>\n",
       "      <td>17665470</td>\n",
       "      <td>10.1002/art.22892</td>\n",
       "      <td>17665470.0</td>\n",
       "      <td>low</td>\n",
       "      <td>Consenting, eligible participants were randomi...</td>\n",
       "      <td>© 2007, American College of Rheumatology\\nORIG...</td>\n",
       "    </tr>\n",
       "    <tr>\n",
       "      <th>4</th>\n",
       "      <td>4</td>\n",
       "      <td>low</td>\n",
       "      <td>To ensure treatment allocation concealment, ju...</td>\n",
       "      <td>unk</td>\n",
       "      <td>unk</td>\n",
       "      <td>low</td>\n",
       "      <td>low</td>\n",
       "      <td>[missing]</td>\n",
       "      <td>[missing]</td>\n",
       "      <td>Between March 2002 and April 2005, we performe...</td>\n",
       "      <td>...</td>\n",
       "      <td>Thirty-nine participants (53%) in the active g...</td>\n",
       "      <td>[missing]</td>\n",
       "      <td>[missing]</td>\n",
       "      <td>[missing]</td>\n",
       "      <td>17665470</td>\n",
       "      <td>10.1002/art.22892</td>\n",
       "      <td>17665470.0</td>\n",
       "      <td>low</td>\n",
       "      <td>Consenting, eligible participants were randomi...</td>\n",
       "      <td>A Randomized Trial\\nRACHELLE</td>\n",
       "    </tr>\n",
       "  </tbody>\n",
       "</table>\n",
       "<p>5 rows × 25 columns</p>\n",
       "</div>"
      ],
      "text/plain": [
       "  Unnamed: 0 ac-doc-judgment  \\\n",
       "0          0             low   \n",
       "1          1             low   \n",
       "2          2             low   \n",
       "3          3             low   \n",
       "4          4             low   \n",
       "\n",
       "                                        ac-rationale boa-doc-judgment-all  \\\n",
       "0  To ensure treatment allocation concealment, ju...                  unk   \n",
       "1  To ensure treatment allocation concealment, ju...                  unk   \n",
       "2  To ensure treatment allocation concealment, ju...                  unk   \n",
       "3  To ensure treatment allocation concealment, ju...                  unk   \n",
       "4  To ensure treatment allocation concealment, ju...                  unk   \n",
       "\n",
       "  boa-doc-judgment-mortality boa-doc-judgment-objective  \\\n",
       "0                        unk                        low   \n",
       "1                        unk                        low   \n",
       "2                        unk                        low   \n",
       "3                        unk                        low   \n",
       "4                        unk                        low   \n",
       "\n",
       "  boa-doc-judgment-subjective boa-rationale-all boa-rationale-mortality  \\\n",
       "0                         low         [missing]               [missing]   \n",
       "1                         low         [missing]               [missing]   \n",
       "2                         low         [missing]               [missing]   \n",
       "3                         low         [missing]               [missing]   \n",
       "4                         low         [missing]               [missing]   \n",
       "\n",
       "                             boa-rationale-objective  \\\n",
       "0  Between March 2002 and April 2005, we performe...   \n",
       "1  Between March 2002 and April 2005, we performe...   \n",
       "2  Between March 2002 and April 2005, we performe...   \n",
       "3  Between March 2002 and April 2005, we performe...   \n",
       "4  Between March 2002 and April 2005, we performe...   \n",
       "\n",
       "                         ...                          \\\n",
       "0                        ...                           \n",
       "1                        ...                           \n",
       "2                        ...                           \n",
       "3                        ...                           \n",
       "4                        ...                           \n",
       "\n",
       "                                   bpp-rationale-all bpp-rationale-mortality  \\\n",
       "0  Thirty-nine participants (53%) in the active g...               [missing]   \n",
       "1  Thirty-nine participants (53%) in the active g...               [missing]   \n",
       "2  Thirty-nine participants (53%) in the active g...               [missing]   \n",
       "3  Thirty-nine participants (53%) in the active g...               [missing]   \n",
       "4  Thirty-nine participants (53%) in the active g...               [missing]   \n",
       "\n",
       "  bpp-rationale-objective bpp-rationale-subjective    doc_id  \\\n",
       "0               [missing]                [missing]  17665470   \n",
       "1               [missing]                [missing]  17665470   \n",
       "2               [missing]                [missing]  17665470   \n",
       "3               [missing]                [missing]  17665470   \n",
       "4               [missing]                [missing]  17665470   \n",
       "\n",
       "                 doi        pmid rsg-doc-judgment  \\\n",
       "0  10.1002/art.22892  17665470.0              low   \n",
       "1  10.1002/art.22892  17665470.0              low   \n",
       "2  10.1002/art.22892  17665470.0              low   \n",
       "3  10.1002/art.22892  17665470.0              low   \n",
       "4  10.1002/art.22892  17665470.0              low   \n",
       "\n",
       "                                       rsg-rationale  \\\n",
       "0  Consenting, eligible participants were randomi...   \n",
       "1  Consenting, eligible participants were randomi...   \n",
       "2  Consenting, eligible participants were randomi...   \n",
       "3  Consenting, eligible participants were randomi...   \n",
       "4  Consenting, eligible participants were randomi...   \n",
       "\n",
       "                                            sentence  \n",
       "0  Arthritis & Rheumatism (Arthritis Care & Resea...  \n",
       "1                                               57,   \n",
       "2  No. 6, August 15, 2007, pp 1027–1037 DOI 10.10...  \n",
       "3  © 2007, American College of Rheumatology\\nORIG...  \n",
       "4                      A Randomized Trial\\nRACHELLE   \n",
       "\n",
       "[5 rows x 25 columns]"
      ]
     },
     "execution_count": 7,
     "metadata": {},
     "output_type": "execute_result"
    }
   ],
   "source": [
    "formatted_df.head()"
   ]
  },
  {
   "cell_type": "code",
   "execution_count": 8,
   "metadata": {},
   "outputs": [
    {
     "data": {
      "text/html": [
       "<div>\n",
       "<style>\n",
       "    .dataframe thead tr:only-child th {\n",
       "        text-align: right;\n",
       "    }\n",
       "\n",
       "    .dataframe thead th {\n",
       "        text-align: left;\n",
       "    }\n",
       "\n",
       "    .dataframe tbody tr th {\n",
       "        vertical-align: top;\n",
       "    }\n",
       "</style>\n",
       "<table border=\"1\" class=\"dataframe\">\n",
       "  <thead>\n",
       "    <tr style=\"text-align: right;\">\n",
       "      <th></th>\n",
       "      <th>Unnamed: 0</th>\n",
       "      <th>ac-doc-judgment</th>\n",
       "      <th>ac-rationale</th>\n",
       "      <th>boa-doc-judgment-all</th>\n",
       "      <th>boa-doc-judgment-mortality</th>\n",
       "      <th>boa-doc-judgment-objective</th>\n",
       "      <th>boa-doc-judgment-subjective</th>\n",
       "      <th>boa-rationale-all</th>\n",
       "      <th>boa-rationale-mortality</th>\n",
       "      <th>boa-rationale-objective</th>\n",
       "      <th>...</th>\n",
       "      <th>bpp-rationale-all</th>\n",
       "      <th>bpp-rationale-mortality</th>\n",
       "      <th>bpp-rationale-objective</th>\n",
       "      <th>bpp-rationale-subjective</th>\n",
       "      <th>doc_id</th>\n",
       "      <th>doi</th>\n",
       "      <th>pmid</th>\n",
       "      <th>rsg-doc-judgment</th>\n",
       "      <th>rsg-rationale</th>\n",
       "      <th>sentence</th>\n",
       "    </tr>\n",
       "  </thead>\n",
       "  <tbody>\n",
       "    <tr>\n",
       "      <th>409051</th>\n",
       "      <td>\u0014\b\u0014/\f",
       ")</td>\n",
       "      <td>NaN</td>\n",
       "      <td>NaN</td>\n",
       "      <td>NaN</td>\n",
       "      <td>NaN</td>\n",
       "      <td>NaN</td>\n",
       "      <td>NaN</td>\n",
       "      <td>NaN</td>\n",
       "      <td>NaN</td>\n",
       "      <td>NaN</td>\n",
       "      <td>...</td>\n",
       "      <td>NaN</td>\n",
       "      <td>NaN</td>\n",
       "      <td>NaN</td>\n",
       "      <td>NaN</td>\n",
       "      <td>NaN</td>\n",
       "      <td>NaN</td>\n",
       "      <td>NaN</td>\n",
       "      <td>NaN</td>\n",
       "      <td>NaN</td>\n",
       "      <td>NaN</td>\n",
       "    </tr>\n",
       "    <tr>\n",
       "      <th>3182184</th>\n",
       "      <td>\u0014\b\u0014/\f",
       ")</td>\n",
       "      <td>NaN</td>\n",
       "      <td>NaN</td>\n",
       "      <td>NaN</td>\n",
       "      <td>NaN</td>\n",
       "      <td>NaN</td>\n",
       "      <td>NaN</td>\n",
       "      <td>NaN</td>\n",
       "      <td>NaN</td>\n",
       "      <td>NaN</td>\n",
       "      <td>...</td>\n",
       "      <td>NaN</td>\n",
       "      <td>NaN</td>\n",
       "      <td>NaN</td>\n",
       "      <td>NaN</td>\n",
       "      <td>NaN</td>\n",
       "      <td>NaN</td>\n",
       "      <td>NaN</td>\n",
       "      <td>NaN</td>\n",
       "      <td>NaN</td>\n",
       "      <td>NaN</td>\n",
       "    </tr>\n",
       "  </tbody>\n",
       "</table>\n",
       "<p>2 rows × 25 columns</p>\n",
       "</div>"
      ],
      "text/plain": [
       "        Unnamed: 0 ac-doc-judgment ac-rationale boa-doc-judgment-all  \\\n",
       "409051     \u0014\b\u0014/\n",
       ")              NaN          NaN                  NaN   \n",
       "3182184    \u0014\b\u0014/\n",
       ")              NaN          NaN                  NaN   \n",
       "\n",
       "        boa-doc-judgment-mortality boa-doc-judgment-objective  \\\n",
       "409051                         NaN                        NaN   \n",
       "3182184                        NaN                        NaN   \n",
       "\n",
       "        boa-doc-judgment-subjective boa-rationale-all boa-rationale-mortality  \\\n",
       "409051                          NaN               NaN                     NaN   \n",
       "3182184                         NaN               NaN                     NaN   \n",
       "\n",
       "        boa-rationale-objective   ...    bpp-rationale-all  \\\n",
       "409051                      NaN   ...                  NaN   \n",
       "3182184                     NaN   ...                  NaN   \n",
       "\n",
       "        bpp-rationale-mortality bpp-rationale-objective  \\\n",
       "409051                      NaN                     NaN   \n",
       "3182184                     NaN                     NaN   \n",
       "\n",
       "        bpp-rationale-subjective doc_id  doi pmid rsg-doc-judgment  \\\n",
       "409051                       NaN    NaN  NaN  NaN              NaN   \n",
       "3182184                      NaN    NaN  NaN  NaN              NaN   \n",
       "\n",
       "        rsg-rationale sentence  \n",
       "409051            NaN      NaN  \n",
       "3182184           NaN      NaN  \n",
       "\n",
       "[2 rows x 25 columns]"
      ]
     },
     "execution_count": 8,
     "metadata": {},
     "output_type": "execute_result"
    }
   ],
   "source": [
    "formatted_df[formatted_df[\"doc_id\"].isnull()]"
   ]
  },
  {
   "cell_type": "code",
   "execution_count": 9,
   "metadata": {},
   "outputs": [
    {
     "data": {
      "text/plain": [
       "(24089,)"
      ]
     },
     "execution_count": 9,
     "metadata": {},
     "output_type": "execute_result"
    }
   ],
   "source": [
    "formatted_df_no_nulls = formatted_df[pd.notnull(formatted_df[\"doc_id\"])]\n",
    "formatted_df_no_nulls['doc_id'].unique().shape"
   ]
  },
  {
   "cell_type": "code",
   "execution_count": 10,
   "metadata": {},
   "outputs": [
    {
     "data": {
      "text/plain": [
       "(24090,)"
      ]
     },
     "execution_count": 10,
     "metadata": {},
     "output_type": "execute_result"
    }
   ],
   "source": [
    "formatted_df['doc_id'].unique().shape"
   ]
  },
  {
   "cell_type": "markdown",
   "metadata": {},
   "source": [
    "Finally, actually pull out the train and test instances"
   ]
  },
  {
   "cell_type": "code",
   "execution_count": 15,
   "metadata": {},
   "outputs": [
    {
     "data": {
      "text/plain": [
       "(945568, 25)"
      ]
     },
     "execution_count": 15,
     "metadata": {},
     "output_type": "execute_result"
    }
   ],
   "source": [
    "test_df = formatted_df_no_nulls[formatted_df_no_nulls['doc_id'].isin(test_ids)]\n",
    "test_df.shape"
   ]
  },
  {
   "cell_type": "code",
   "execution_count": 16,
   "metadata": {},
   "outputs": [
    {
     "data": {
      "text/plain": [
       "(3112,)"
      ]
     },
     "execution_count": 16,
     "metadata": {},
     "output_type": "execute_result"
    }
   ],
   "source": [
    "test_df['doc_id'].unique().shape"
   ]
  },
  {
   "cell_type": "code",
   "execution_count": 17,
   "metadata": {
    "collapsed": true
   },
   "outputs": [],
   "source": [
    "test_df.to_csv(\"data/splits/test-df-sarthak.csv\", index=False)"
   ]
  },
  {
   "cell_type": "code",
   "execution_count": 18,
   "metadata": {},
   "outputs": [
    {
     "data": {
      "text/plain": [
       "(3081849, 25)"
      ]
     },
     "execution_count": 18,
     "metadata": {},
     "output_type": "execute_result"
    }
   ],
   "source": [
    "train_df = formatted_df_no_nulls[~formatted_df_no_nulls['doc_id'].isin(test_ids)]\n",
    "train_df.shape"
   ]
  },
  {
   "cell_type": "code",
   "execution_count": 19,
   "metadata": {},
   "outputs": [
    {
     "data": {
      "text/plain": [
       "(20977,)"
      ]
     },
     "execution_count": 19,
     "metadata": {},
     "output_type": "execute_result"
    }
   ],
   "source": [
    "train_df['doc_id'].unique().shape"
   ]
  },
  {
   "cell_type": "markdown",
   "metadata": {},
   "source": [
    "Now we deal with any weird edge cases wherein a study has multiple judgments for any given domain (despite being within the same Cochrane review, by construction)"
   ]
  },
  {
   "cell_type": "code",
   "execution_count": 20,
   "metadata": {
    "collapsed": true
   },
   "outputs": [],
   "source": [
    "doc_judgments = ['rsg-doc-judgment',\n",
    "       'ac-doc-judgment',\n",
    "       'bpp-doc-judgment-all',\n",
    "       'bpp-doc-judgment-mortality',\n",
    "       'bpp-doc-judgment-objective',\n",
    "       'bpp-doc-judgment-subjective',\n",
    "       'boa-doc-judgment-all',\n",
    "       'boa-doc-judgment-objective',\n",
    "       'boa-doc-judgment-subjective',\n",
    "       'boa-doc-judgment-mortality']\n",
    "             \n",
    "def find_edge_case_UIDs():\n",
    "    weird_uids = []\n",
    "    docs = train_df.groupby(\"doc_id\")\n",
    "    documents = []\n",
    "    for doc_id, doc in docs:\n",
    "        doc_lbl_dict = {}\n",
    "        for dj in doc_judgments:\n",
    "            if not doc[dj].unique().shape[0]==1:\n",
    "                print\n",
    "                weird_uids.append(doc_id)\n",
    "    return list(set(weird_uids))"
   ]
  },
  {
   "cell_type": "code",
   "execution_count": 21,
   "metadata": {
    "collapsed": true
   },
   "outputs": [],
   "source": [
    "edge_cases = find_edge_case_UIDs()"
   ]
  },
  {
   "cell_type": "code",
   "execution_count": 22,
   "metadata": {},
   "outputs": [
    {
     "data": {
      "text/plain": [
       "62"
      ]
     },
     "execution_count": 22,
     "metadata": {},
     "output_type": "execute_result"
    }
   ],
   "source": [
    "len(edge_cases)"
   ]
  },
  {
   "cell_type": "code",
   "execution_count": 23,
   "metadata": {},
   "outputs": [
    {
     "data": {
      "text/plain": [
       "(20977,)"
      ]
     },
     "execution_count": 23,
     "metadata": {},
     "output_type": "execute_result"
    }
   ],
   "source": [
    "train_df[\"doc_id\"].unique().shape"
   ]
  },
  {
   "cell_type": "code",
   "execution_count": 24,
   "metadata": {},
   "outputs": [
    {
     "data": {
      "text/plain": [
       "[('rsg-doc-judgment', array(['low'], dtype=object)),\n",
       " ('ac-doc-judgment', array(['low'], dtype=object)),\n",
       " ('bpp-doc-judgment-all', array(['unclear', 'low'], dtype=object)),\n",
       " ('bpp-doc-judgment-mortality', array(['unk'], dtype=object)),\n",
       " ('bpp-doc-judgment-objective', array(['unk'], dtype=object)),\n",
       " ('bpp-doc-judgment-subjective', array(['unk'], dtype=object)),\n",
       " ('boa-doc-judgment-all', array(['unclear'], dtype=object)),\n",
       " ('boa-doc-judgment-objective', array(['unk'], dtype=object)),\n",
       " ('boa-doc-judgment-subjective', array(['unk'], dtype=object)),\n",
       " ('boa-doc-judgment-mortality', array(['unk'], dtype=object))]"
      ]
     },
     "execution_count": 24,
     "metadata": {},
     "output_type": "execute_result"
    }
   ],
   "source": [
    "list(zip(doc_judgments, [train_df[train_df[\"doc_id\"] == edge_cases[1]][otype].unique() for otype in doc_judgments]))"
   ]
  },
  {
   "cell_type": "markdown",
   "metadata": {},
   "source": [
    "Per consultation w/Iain, we'll just drop these weird ones. "
   ]
  },
  {
   "cell_type": "code",
   "execution_count": 25,
   "metadata": {
    "collapsed": true
   },
   "outputs": [],
   "source": [
    "train_df_clean = train_df[~train_df['doc_id'].isin(edge_cases)]"
   ]
  },
  {
   "cell_type": "code",
   "execution_count": 26,
   "metadata": {},
   "outputs": [
    {
     "data": {
      "text/plain": [
       "(20915,)"
      ]
     },
     "execution_count": 26,
     "metadata": {},
     "output_type": "execute_result"
    }
   ],
   "source": [
    "train_df_clean[\"doc_id\"].unique().shape"
   ]
  },
  {
   "cell_type": "code",
   "execution_count": 27,
   "metadata": {},
   "outputs": [
    {
     "data": {
      "text/plain": [
       "(20977,)"
      ]
     },
     "execution_count": 27,
     "metadata": {},
     "output_type": "execute_result"
    }
   ],
   "source": [
    "train_df[\"doc_id\"].unique().shape"
   ]
  },
  {
   "cell_type": "code",
   "execution_count": 28,
   "metadata": {
    "collapsed": true
   },
   "outputs": [],
   "source": [
    "train_df = train_df_clean # just overwrite the noisier version"
   ]
  },
  {
   "cell_type": "markdown",
   "metadata": {},
   "source": [
    "Randomly sample a development set."
   ]
  },
  {
   "cell_type": "code",
   "execution_count": 29,
   "metadata": {
    "collapsed": true
   },
   "outputs": [],
   "source": [
    "train_uids = train_df[\"doc_id\"].unique()"
   ]
  },
  {
   "cell_type": "code",
   "execution_count": 30,
   "metadata": {
    "collapsed": true
   },
   "outputs": [],
   "source": [
    "import numpy as np\n",
    "dev_set_ids = np.random.choice(train_uids, 5000, replace=False)"
   ]
  },
  {
   "cell_type": "code",
   "execution_count": 31,
   "metadata": {
    "collapsed": true
   },
   "outputs": [],
   "source": [
    "dev_df = train_df[train_df['doc_id'].isin(dev_set_ids)]\n",
    "train_sans_dev_df = train_df[~train_df['doc_id'].isin(dev_set_ids)]"
   ]
  },
  {
   "cell_type": "code",
   "execution_count": 32,
   "metadata": {},
   "outputs": [
    {
     "data": {
      "text/plain": [
       "(5000,)"
      ]
     },
     "execution_count": 32,
     "metadata": {},
     "output_type": "execute_result"
    }
   ],
   "source": [
    "dev_df[\"doc_id\"].unique().shape"
   ]
  },
  {
   "cell_type": "code",
   "execution_count": 33,
   "metadata": {},
   "outputs": [
    {
     "data": {
      "text/plain": [
       "(15915,)"
      ]
     },
     "execution_count": 33,
     "metadata": {},
     "output_type": "execute_result"
    }
   ],
   "source": [
    "train_sans_dev_df[\"doc_id\"].unique().shape"
   ]
  },
  {
   "cell_type": "code",
   "execution_count": 34,
   "metadata": {
    "collapsed": true
   },
   "outputs": [],
   "source": [
    "train_sans_dev_df.to_csv(\"data/splits/train-df-sarthak.csv\", index=False)"
   ]
  },
  {
   "cell_type": "code",
   "execution_count": 35,
   "metadata": {
    "collapsed": true
   },
   "outputs": [],
   "source": [
    "dev_df.to_csv(\"data/splits/dev-df-sarthak.csv\", index=False)"
   ]
  },
  {
   "cell_type": "code",
   "execution_count": 36,
   "metadata": {},
   "outputs": [
    {
     "data": {
      "text/plain": [
       "'/home/byron/RoB-2.0'"
      ]
     },
     "execution_count": 36,
     "metadata": {},
     "output_type": "execute_result"
    }
   ],
   "source": [
    "pwd"
   ]
  },
  {
   "cell_type": "code",
   "execution_count": null,
   "metadata": {
    "collapsed": true
   },
   "outputs": [],
   "source": []
  }
 ],
 "metadata": {
  "kernelspec": {
   "display_name": "Python 3",
   "language": "python",
   "name": "python3"
  },
  "language_info": {
   "codemirror_mode": {
    "name": "ipython",
    "version": 3
   },
   "file_extension": ".py",
   "mimetype": "text/x-python",
   "name": "python",
   "nbconvert_exporter": "python",
   "pygments_lexer": "ipython3",
   "version": "3.6.3"
  }
 },
 "nbformat": 4,
 "nbformat_minor": 2
}
