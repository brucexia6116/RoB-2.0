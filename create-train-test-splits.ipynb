{
 "cells": [
  {
   "cell_type": "code",
   "execution_count": 1,
   "metadata": {
    "collapsed": true
   },
   "outputs": [],
   "source": [
    "import pandas as pd"
   ]
  },
  {
   "cell_type": "code",
   "execution_count": 2,
   "metadata": {
    "collapsed": true
   },
   "outputs": [],
   "source": [
    "data_path = \"data/RoB-data-w-uids.csv\"\n",
    "df = pd.read_csv(data_path, chunksize=10000)\n",
    "df = pd.concat(df, ignore_index=True)"
   ]
  },
  {
   "cell_type": "code",
   "execution_count": 3,
   "metadata": {
    "collapsed": true
   },
   "outputs": [],
   "source": [
    "def get_duplicate_ids():\n",
    "    '''\n",
    "    Assemble data for testing\n",
    "    '''\n",
    "    duplicate_uids = []\n",
    "    for idx, row in df.iterrows():\n",
    "        cur_cdno = row['cdno']\n",
    "        cur_uid = row['uid']\n",
    "        # duplicates are studies w/same uid but in *different*\n",
    "        # review\n",
    "        cur_duplicates = df[(df['uid'] == cur_uid) & (df['cdno'] != cur_cdno)]\n",
    "        if len(cur_duplicates) > 0:\n",
    "            duplicate_uids.append(cur_uid)\n",
    "\n",
    "    return list(set(duplicate_uids))\n"
   ]
  },
  {
   "cell_type": "code",
   "execution_count": 4,
   "metadata": {
    "collapsed": true
   },
   "outputs": [],
   "source": [
    "test_ids = get_duplicate_ids()"
   ]
  },
  {
   "cell_type": "code",
   "execution_count": 5,
   "metadata": {},
   "outputs": [
    {
     "data": {
      "text/plain": [
       "3112"
      ]
     },
     "execution_count": 5,
     "metadata": {},
     "output_type": "execute_result"
    }
   ],
   "source": [
    "len(test_ids)"
   ]
  },
  {
   "cell_type": "code",
   "execution_count": 6,
   "metadata": {
    "collapsed": true
   },
   "outputs": [],
   "source": [
    "formatted_df = pd.read_csv(\"data/RoB-data-formatted.csv\", chunksize=10000)\n",
    "formatted_df = pd.concat(formatted_df, ignore_index=True)"
   ]
  },
  {
   "cell_type": "code",
   "execution_count": 7,
   "metadata": {},
   "outputs": [
    {
     "data": {
      "text/html": [
       "<div>\n",
       "<style>\n",
       "    .dataframe thead tr:only-child th {\n",
       "        text-align: right;\n",
       "    }\n",
       "\n",
       "    .dataframe thead th {\n",
       "        text-align: left;\n",
       "    }\n",
       "\n",
       "    .dataframe tbody tr th {\n",
       "        vertical-align: top;\n",
       "    }\n",
       "</style>\n",
       "<table border=\"1\" class=\"dataframe\">\n",
       "  <thead>\n",
       "    <tr style=\"text-align: right;\">\n",
       "      <th></th>\n",
       "      <th>Unnamed: 0</th>\n",
       "      <th>ac-doc-judgment</th>\n",
       "      <th>ac-rationale</th>\n",
       "      <th>boa-doc-judgment-all</th>\n",
       "      <th>boa-doc-judgment-mortality</th>\n",
       "      <th>boa-doc-judgment-objective</th>\n",
       "      <th>boa-doc-judgment-subjective</th>\n",
       "      <th>boa-rationale-all</th>\n",
       "      <th>boa-rationale-mortality</th>\n",
       "      <th>boa-rationale-objective</th>\n",
       "      <th>...</th>\n",
       "      <th>bpp-rationale-all</th>\n",
       "      <th>bpp-rationale-mortality</th>\n",
       "      <th>bpp-rationale-objective</th>\n",
       "      <th>bpp-rationale-subjective</th>\n",
       "      <th>doc_id</th>\n",
       "      <th>doi</th>\n",
       "      <th>pmid</th>\n",
       "      <th>rsg-doc-judgment</th>\n",
       "      <th>rsg-rationale</th>\n",
       "      <th>sentence</th>\n",
       "    </tr>\n",
       "  </thead>\n",
       "  <tbody>\n",
       "    <tr>\n",
       "      <th>0</th>\n",
       "      <td>0</td>\n",
       "      <td>low</td>\n",
       "      <td>0.0</td>\n",
       "      <td>unk</td>\n",
       "      <td>unk</td>\n",
       "      <td>low</td>\n",
       "      <td>low</td>\n",
       "      <td>0.0</td>\n",
       "      <td>0.0</td>\n",
       "      <td>0.0</td>\n",
       "      <td>...</td>\n",
       "      <td>0.0</td>\n",
       "      <td>0.0</td>\n",
       "      <td>0.0</td>\n",
       "      <td>0.0</td>\n",
       "      <td>17665470</td>\n",
       "      <td>10.1002/art.22892</td>\n",
       "      <td>17665470.0</td>\n",
       "      <td>low</td>\n",
       "      <td>0.0</td>\n",
       "      <td>Arthritis &amp; Rheumatism (Arthritis Care &amp; Resea...</td>\n",
       "    </tr>\n",
       "    <tr>\n",
       "      <th>1</th>\n",
       "      <td>1</td>\n",
       "      <td>low</td>\n",
       "      <td>0.0</td>\n",
       "      <td>unk</td>\n",
       "      <td>unk</td>\n",
       "      <td>low</td>\n",
       "      <td>low</td>\n",
       "      <td>0.0</td>\n",
       "      <td>0.0</td>\n",
       "      <td>0.0</td>\n",
       "      <td>...</td>\n",
       "      <td>0.0</td>\n",
       "      <td>0.0</td>\n",
       "      <td>0.0</td>\n",
       "      <td>0.0</td>\n",
       "      <td>17665470</td>\n",
       "      <td>10.1002/art.22892</td>\n",
       "      <td>17665470.0</td>\n",
       "      <td>low</td>\n",
       "      <td>0.0</td>\n",
       "      <td>57,</td>\n",
       "    </tr>\n",
       "    <tr>\n",
       "      <th>2</th>\n",
       "      <td>2</td>\n",
       "      <td>low</td>\n",
       "      <td>0.0</td>\n",
       "      <td>unk</td>\n",
       "      <td>unk</td>\n",
       "      <td>low</td>\n",
       "      <td>low</td>\n",
       "      <td>0.0</td>\n",
       "      <td>0.0</td>\n",
       "      <td>0.0</td>\n",
       "      <td>...</td>\n",
       "      <td>0.0</td>\n",
       "      <td>0.0</td>\n",
       "      <td>0.0</td>\n",
       "      <td>0.0</td>\n",
       "      <td>17665470</td>\n",
       "      <td>10.1002/art.22892</td>\n",
       "      <td>17665470.0</td>\n",
       "      <td>low</td>\n",
       "      <td>0.0</td>\n",
       "      <td>No. 6, August 15, 2007, pp 1027–1037 DOI 10.10...</td>\n",
       "    </tr>\n",
       "    <tr>\n",
       "      <th>3</th>\n",
       "      <td>3</td>\n",
       "      <td>low</td>\n",
       "      <td>0.0</td>\n",
       "      <td>unk</td>\n",
       "      <td>unk</td>\n",
       "      <td>low</td>\n",
       "      <td>low</td>\n",
       "      <td>0.0</td>\n",
       "      <td>0.0</td>\n",
       "      <td>0.0</td>\n",
       "      <td>...</td>\n",
       "      <td>0.0</td>\n",
       "      <td>0.0</td>\n",
       "      <td>0.0</td>\n",
       "      <td>0.0</td>\n",
       "      <td>17665470</td>\n",
       "      <td>10.1002/art.22892</td>\n",
       "      <td>17665470.0</td>\n",
       "      <td>low</td>\n",
       "      <td>0.0</td>\n",
       "      <td>© 2007, American College of Rheumatology\\nORIG...</td>\n",
       "    </tr>\n",
       "    <tr>\n",
       "      <th>4</th>\n",
       "      <td>4</td>\n",
       "      <td>low</td>\n",
       "      <td>0.0</td>\n",
       "      <td>unk</td>\n",
       "      <td>unk</td>\n",
       "      <td>low</td>\n",
       "      <td>low</td>\n",
       "      <td>0.0</td>\n",
       "      <td>0.0</td>\n",
       "      <td>0.0</td>\n",
       "      <td>...</td>\n",
       "      <td>0.0</td>\n",
       "      <td>0.0</td>\n",
       "      <td>0.0</td>\n",
       "      <td>0.0</td>\n",
       "      <td>17665470</td>\n",
       "      <td>10.1002/art.22892</td>\n",
       "      <td>17665470.0</td>\n",
       "      <td>low</td>\n",
       "      <td>0.0</td>\n",
       "      <td>A Randomized Trial\\nRACHELLE</td>\n",
       "    </tr>\n",
       "  </tbody>\n",
       "</table>\n",
       "<p>5 rows × 25 columns</p>\n",
       "</div>"
      ],
      "text/plain": [
       "  Unnamed: 0 ac-doc-judgment  ac-rationale boa-doc-judgment-all  \\\n",
       "0          0             low           0.0                  unk   \n",
       "1          1             low           0.0                  unk   \n",
       "2          2             low           0.0                  unk   \n",
       "3          3             low           0.0                  unk   \n",
       "4          4             low           0.0                  unk   \n",
       "\n",
       "  boa-doc-judgment-mortality boa-doc-judgment-objective  \\\n",
       "0                        unk                        low   \n",
       "1                        unk                        low   \n",
       "2                        unk                        low   \n",
       "3                        unk                        low   \n",
       "4                        unk                        low   \n",
       "\n",
       "  boa-doc-judgment-subjective  boa-rationale-all  boa-rationale-mortality  \\\n",
       "0                         low                0.0                      0.0   \n",
       "1                         low                0.0                      0.0   \n",
       "2                         low                0.0                      0.0   \n",
       "3                         low                0.0                      0.0   \n",
       "4                         low                0.0                      0.0   \n",
       "\n",
       "   boa-rationale-objective                        ...                          \\\n",
       "0                      0.0                        ...                           \n",
       "1                      0.0                        ...                           \n",
       "2                      0.0                        ...                           \n",
       "3                      0.0                        ...                           \n",
       "4                      0.0                        ...                           \n",
       "\n",
       "   bpp-rationale-all bpp-rationale-mortality bpp-rationale-objective  \\\n",
       "0                0.0                     0.0                     0.0   \n",
       "1                0.0                     0.0                     0.0   \n",
       "2                0.0                     0.0                     0.0   \n",
       "3                0.0                     0.0                     0.0   \n",
       "4                0.0                     0.0                     0.0   \n",
       "\n",
       "  bpp-rationale-subjective    doc_id                doi        pmid  \\\n",
       "0                      0.0  17665470  10.1002/art.22892  17665470.0   \n",
       "1                      0.0  17665470  10.1002/art.22892  17665470.0   \n",
       "2                      0.0  17665470  10.1002/art.22892  17665470.0   \n",
       "3                      0.0  17665470  10.1002/art.22892  17665470.0   \n",
       "4                      0.0  17665470  10.1002/art.22892  17665470.0   \n",
       "\n",
       "   rsg-doc-judgment  rsg-rationale  \\\n",
       "0               low            0.0   \n",
       "1               low            0.0   \n",
       "2               low            0.0   \n",
       "3               low            0.0   \n",
       "4               low            0.0   \n",
       "\n",
       "                                            sentence  \n",
       "0  Arthritis & Rheumatism (Arthritis Care & Resea...  \n",
       "1                                               57,   \n",
       "2  No. 6, August 15, 2007, pp 1027–1037 DOI 10.10...  \n",
       "3  © 2007, American College of Rheumatology\\nORIG...  \n",
       "4                      A Randomized Trial\\nRACHELLE   \n",
       "\n",
       "[5 rows x 25 columns]"
      ]
     },
     "execution_count": 7,
     "metadata": {},
     "output_type": "execute_result"
    }
   ],
   "source": [
    "formatted_df.head()"
   ]
  },
  {
   "cell_type": "code",
   "execution_count": 8,
   "metadata": {},
   "outputs": [
    {
     "data": {
      "text/html": [
       "<div>\n",
       "<style>\n",
       "    .dataframe thead tr:only-child th {\n",
       "        text-align: right;\n",
       "    }\n",
       "\n",
       "    .dataframe thead th {\n",
       "        text-align: left;\n",
       "    }\n",
       "\n",
       "    .dataframe tbody tr th {\n",
       "        vertical-align: top;\n",
       "    }\n",
       "</style>\n",
       "<table border=\"1\" class=\"dataframe\">\n",
       "  <thead>\n",
       "    <tr style=\"text-align: right;\">\n",
       "      <th></th>\n",
       "      <th>Unnamed: 0</th>\n",
       "      <th>ac-doc-judgment</th>\n",
       "      <th>ac-rationale</th>\n",
       "      <th>boa-doc-judgment-all</th>\n",
       "      <th>boa-doc-judgment-mortality</th>\n",
       "      <th>boa-doc-judgment-objective</th>\n",
       "      <th>boa-doc-judgment-subjective</th>\n",
       "      <th>boa-rationale-all</th>\n",
       "      <th>boa-rationale-mortality</th>\n",
       "      <th>boa-rationale-objective</th>\n",
       "      <th>...</th>\n",
       "      <th>bpp-rationale-all</th>\n",
       "      <th>bpp-rationale-mortality</th>\n",
       "      <th>bpp-rationale-objective</th>\n",
       "      <th>bpp-rationale-subjective</th>\n",
       "      <th>doc_id</th>\n",
       "      <th>doi</th>\n",
       "      <th>pmid</th>\n",
       "      <th>rsg-doc-judgment</th>\n",
       "      <th>rsg-rationale</th>\n",
       "      <th>sentence</th>\n",
       "    </tr>\n",
       "  </thead>\n",
       "  <tbody>\n",
       "    <tr>\n",
       "      <th>409051</th>\n",
       "      <td>\u0014\b\u0014/\f",
       ")</td>\n",
       "      <td>NaN</td>\n",
       "      <td>NaN</td>\n",
       "      <td>NaN</td>\n",
       "      <td>NaN</td>\n",
       "      <td>NaN</td>\n",
       "      <td>NaN</td>\n",
       "      <td>NaN</td>\n",
       "      <td>NaN</td>\n",
       "      <td>NaN</td>\n",
       "      <td>...</td>\n",
       "      <td>NaN</td>\n",
       "      <td>NaN</td>\n",
       "      <td>NaN</td>\n",
       "      <td>NaN</td>\n",
       "      <td>NaN</td>\n",
       "      <td>NaN</td>\n",
       "      <td>NaN</td>\n",
       "      <td>NaN</td>\n",
       "      <td>NaN</td>\n",
       "      <td>NaN</td>\n",
       "    </tr>\n",
       "    <tr>\n",
       "      <th>3182181</th>\n",
       "      <td>\u0014\b\u0014/\f",
       ")</td>\n",
       "      <td>NaN</td>\n",
       "      <td>NaN</td>\n",
       "      <td>NaN</td>\n",
       "      <td>NaN</td>\n",
       "      <td>NaN</td>\n",
       "      <td>NaN</td>\n",
       "      <td>NaN</td>\n",
       "      <td>NaN</td>\n",
       "      <td>NaN</td>\n",
       "      <td>...</td>\n",
       "      <td>NaN</td>\n",
       "      <td>NaN</td>\n",
       "      <td>NaN</td>\n",
       "      <td>NaN</td>\n",
       "      <td>NaN</td>\n",
       "      <td>NaN</td>\n",
       "      <td>NaN</td>\n",
       "      <td>NaN</td>\n",
       "      <td>NaN</td>\n",
       "      <td>NaN</td>\n",
       "    </tr>\n",
       "  </tbody>\n",
       "</table>\n",
       "<p>2 rows × 25 columns</p>\n",
       "</div>"
      ],
      "text/plain": [
       "        Unnamed: 0 ac-doc-judgment  ac-rationale boa-doc-judgment-all  \\\n",
       "409051     \u0014\b\u0014/\n",
       ")              NaN           NaN                  NaN   \n",
       "3182181    \u0014\b\u0014/\n",
       ")              NaN           NaN                  NaN   \n",
       "\n",
       "        boa-doc-judgment-mortality boa-doc-judgment-objective  \\\n",
       "409051                         NaN                        NaN   \n",
       "3182181                        NaN                        NaN   \n",
       "\n",
       "        boa-doc-judgment-subjective  boa-rationale-all  \\\n",
       "409051                          NaN                NaN   \n",
       "3182181                         NaN                NaN   \n",
       "\n",
       "         boa-rationale-mortality  boa-rationale-objective   ...     \\\n",
       "409051                       NaN                      NaN   ...      \n",
       "3182181                      NaN                      NaN   ...      \n",
       "\n",
       "         bpp-rationale-all bpp-rationale-mortality bpp-rationale-objective  \\\n",
       "409051                 NaN                     NaN                     NaN   \n",
       "3182181                NaN                     NaN                     NaN   \n",
       "\n",
       "        bpp-rationale-subjective doc_id  doi  pmid  rsg-doc-judgment  \\\n",
       "409051                       NaN    NaN  NaN   NaN               NaN   \n",
       "3182181                      NaN    NaN  NaN   NaN               NaN   \n",
       "\n",
       "         rsg-rationale sentence  \n",
       "409051             NaN      NaN  \n",
       "3182181            NaN      NaN  \n",
       "\n",
       "[2 rows x 25 columns]"
      ]
     },
     "execution_count": 8,
     "metadata": {},
     "output_type": "execute_result"
    }
   ],
   "source": [
    "formatted_df[formatted_df[\"doc_id\"].isnull()]"
   ]
  },
  {
   "cell_type": "code",
   "execution_count": 12,
   "metadata": {},
   "outputs": [
    {
     "data": {
      "text/plain": [
       "(24089,)"
      ]
     },
     "execution_count": 12,
     "metadata": {},
     "output_type": "execute_result"
    }
   ],
   "source": [
    "formatted_df_no_nulls = formatted_df[pd.notnull(formatted_df[\"doc_id\"])]\n",
    "formatted_df_no_nulls['doc_id'].unique().shape"
   ]
  },
  {
   "cell_type": "code",
   "execution_count": 13,
   "metadata": {},
   "outputs": [
    {
     "data": {
      "text/plain": [
       "(24090,)"
      ]
     },
     "execution_count": 13,
     "metadata": {},
     "output_type": "execute_result"
    }
   ],
   "source": [
    "formatted_df['doc_id'].unique().shape"
   ]
  },
  {
   "cell_type": "markdown",
   "metadata": {},
   "source": [
    "Finally, actually pull out the train and test instances"
   ]
  },
  {
   "cell_type": "code",
   "execution_count": 15,
   "metadata": {},
   "outputs": [
    {
     "data": {
      "text/plain": [
       "(945568, 25)"
      ]
     },
     "execution_count": 15,
     "metadata": {},
     "output_type": "execute_result"
    }
   ],
   "source": [
    "test_df = formatted_df_no_nulls[formatted_df_no_nulls['doc_id'].isin(test_ids)]\n",
    "test_df.shape"
   ]
  },
  {
   "cell_type": "code",
   "execution_count": 67,
   "metadata": {},
   "outputs": [
    {
     "data": {
      "text/plain": [
       "(3112,)"
      ]
     },
     "execution_count": 67,
     "metadata": {},
     "output_type": "execute_result"
    }
   ],
   "source": [
    "test_df['doc_id'].unique().shape"
   ]
  },
  {
   "cell_type": "code",
   "execution_count": 66,
   "metadata": {
    "collapsed": true
   },
   "outputs": [],
   "source": [
    "test_df.to_csv(\"data/splits/test-df.csv\", index=False)"
   ]
  },
  {
   "cell_type": "code",
   "execution_count": 18,
   "metadata": {},
   "outputs": [
    {
     "data": {
      "text/plain": [
       "(3081845, 25)"
      ]
     },
     "execution_count": 18,
     "metadata": {},
     "output_type": "execute_result"
    }
   ],
   "source": [
    "train_df = formatted_df_no_nulls[~formatted_df_no_nulls['doc_id'].isin(test_ids)]\n",
    "train_df.shape"
   ]
  },
  {
   "cell_type": "code",
   "execution_count": 19,
   "metadata": {},
   "outputs": [
    {
     "data": {
      "text/plain": [
       "(20977,)"
      ]
     },
     "execution_count": 19,
     "metadata": {},
     "output_type": "execute_result"
    }
   ],
   "source": [
    "train_df['doc_id'].unique().shape"
   ]
  },
  {
   "cell_type": "markdown",
   "metadata": {},
   "source": [
    "Now we deal with any weird edge cases wherein a study has multiple judgments for any given domain (despite being within the same Cochrane review, by construction)"
   ]
  },
  {
   "cell_type": "code",
   "execution_count": 38,
   "metadata": {
    "collapsed": true
   },
   "outputs": [],
   "source": [
    "doc_judgments = ['rsg-doc-judgment',\n",
    "       'ac-doc-judgment',\n",
    "       'bpp-doc-judgment-all',\n",
    "       'bpp-doc-judgment-mortality',\n",
    "       'bpp-doc-judgment-objective',\n",
    "       'bpp-doc-judgment-subjective',\n",
    "       'boa-doc-judgment-all',\n",
    "       'boa-doc-judgment-objective',\n",
    "       'boa-doc-judgment-subjective',\n",
    "       'boa-doc-judgment-mortality']\n",
    "             \n",
    "def find_edge_case_UIDs():\n",
    "    weird_uids = []\n",
    "    docs = train_df.groupby(\"doc_id\")\n",
    "    documents = []\n",
    "    for doc_id, doc in docs:\n",
    "        doc_lbl_dict = {}\n",
    "        for dj in doc_judgments:\n",
    "            if not doc[dj].unique().shape[0]==1:\n",
    "                print\n",
    "                weird_uids.append(doc_id)\n",
    "    return list(set(weird_uids))"
   ]
  },
  {
   "cell_type": "code",
   "execution_count": 39,
   "metadata": {},
   "outputs": [],
   "source": [
    "edge_cases = find_edge_case_UIDs()"
   ]
  },
  {
   "cell_type": "code",
   "execution_count": 40,
   "metadata": {},
   "outputs": [
    {
     "data": {
      "text/plain": [
       "62"
      ]
     },
     "execution_count": 40,
     "metadata": {},
     "output_type": "execute_result"
    }
   ],
   "source": [
    "len(edge_cases)"
   ]
  },
  {
   "cell_type": "code",
   "execution_count": 54,
   "metadata": {},
   "outputs": [
    {
     "data": {
      "text/plain": [
       "(20977,)"
      ]
     },
     "execution_count": 54,
     "metadata": {},
     "output_type": "execute_result"
    }
   ],
   "source": [
    "train_df[\"doc_id\"].unique().shape"
   ]
  },
  {
   "cell_type": "code",
   "execution_count": 53,
   "metadata": {},
   "outputs": [
    {
     "data": {
      "text/plain": [
       "[('rsg-doc-judgment', array(['unclear', 'low'], dtype=object)),\n",
       " ('ac-doc-judgment', array(['unclear', 'low'], dtype=object)),\n",
       " ('bpp-doc-judgment-all', array(['unclear', 'low'], dtype=object)),\n",
       " ('bpp-doc-judgment-mortality', array(['unk'], dtype=object)),\n",
       " ('bpp-doc-judgment-objective', array(['unk'], dtype=object)),\n",
       " ('bpp-doc-judgment-subjective', array(['unk'], dtype=object)),\n",
       " ('boa-doc-judgment-all', array(['unclear', 'low'], dtype=object)),\n",
       " ('boa-doc-judgment-objective', array(['unk'], dtype=object)),\n",
       " ('boa-doc-judgment-subjective', array(['unk'], dtype=object)),\n",
       " ('boa-doc-judgment-mortality', array(['unk'], dtype=object))]"
      ]
     },
     "execution_count": 53,
     "metadata": {},
     "output_type": "execute_result"
    }
   ],
   "source": [
    "list(zip(doc_judgments, [train_df[train_df[\"doc_id\"] == edge_cases[1]][otype].unique() for otype in doc_judgments]))"
   ]
  },
  {
   "cell_type": "markdown",
   "metadata": {},
   "source": [
    "Per consultation w/Iain, we'll just drop these weird ones. "
   ]
  },
  {
   "cell_type": "code",
   "execution_count": 55,
   "metadata": {
    "collapsed": true
   },
   "outputs": [],
   "source": [
    "train_df_clean = train_df[~train_df['doc_id'].isin(edge_cases)]"
   ]
  },
  {
   "cell_type": "code",
   "execution_count": 56,
   "metadata": {},
   "outputs": [
    {
     "data": {
      "text/plain": [
       "(20915,)"
      ]
     },
     "execution_count": 56,
     "metadata": {},
     "output_type": "execute_result"
    }
   ],
   "source": [
    "train_df_clean[\"doc_id\"].unique().shape"
   ]
  },
  {
   "cell_type": "code",
   "execution_count": 57,
   "metadata": {},
   "outputs": [
    {
     "data": {
      "text/plain": [
       "(20977,)"
      ]
     },
     "execution_count": 57,
     "metadata": {},
     "output_type": "execute_result"
    }
   ],
   "source": [
    "train_df[\"doc_id\"].unique().shape"
   ]
  },
  {
   "cell_type": "code",
   "execution_count": 58,
   "metadata": {
    "collapsed": true
   },
   "outputs": [],
   "source": [
    "train_df = train_df_clean # just overwrite the noisier version"
   ]
  },
  {
   "cell_type": "markdown",
   "metadata": {},
   "source": [
    "Randomly sample a development set."
   ]
  },
  {
   "cell_type": "code",
   "execution_count": 60,
   "metadata": {},
   "outputs": [],
   "source": [
    "train_uids = train_df[\"doc_id\"].unique()"
   ]
  },
  {
   "cell_type": "code",
   "execution_count": 61,
   "metadata": {
    "collapsed": true
   },
   "outputs": [],
   "source": [
    "import numpy as np\n",
    "dev_set_ids = np.random.choice(train_uids, 5000, replace=False)"
   ]
  },
  {
   "cell_type": "code",
   "execution_count": 62,
   "metadata": {},
   "outputs": [],
   "source": [
    "dev_df = train_df[train_df['doc_id'].isin(dev_set_ids)]\n",
    "train_sans_dev_df = train_df[~train_df['doc_id'].isin(dev_set_ids)]"
   ]
  },
  {
   "cell_type": "code",
   "execution_count": 64,
   "metadata": {},
   "outputs": [
    {
     "data": {
      "text/plain": [
       "(5000,)"
      ]
     },
     "execution_count": 64,
     "metadata": {},
     "output_type": "execute_result"
    }
   ],
   "source": [
    "dev_df[\"doc_id\"].unique().shape"
   ]
  },
  {
   "cell_type": "code",
   "execution_count": 65,
   "metadata": {},
   "outputs": [
    {
     "data": {
      "text/plain": [
       "(15915,)"
      ]
     },
     "execution_count": 65,
     "metadata": {},
     "output_type": "execute_result"
    }
   ],
   "source": [
    "train_sans_dev_df[\"doc_id\"].unique().shape"
   ]
  },
  {
   "cell_type": "code",
   "execution_count": 68,
   "metadata": {
    "collapsed": true
   },
   "outputs": [],
   "source": [
    "train_sans_dev_df.to_csv(\"data/splits/train-df.csv\", index=False)"
   ]
  },
  {
   "cell_type": "code",
   "execution_count": 69,
   "metadata": {
    "collapsed": true
   },
   "outputs": [],
   "source": [
    "dev_df.to_csv(\"data/splits/dev-df.csv\", index=False)"
   ]
  },
  {
   "cell_type": "code",
   "execution_count": 71,
   "metadata": {},
   "outputs": [
    {
     "data": {
      "text/plain": [
       "'/home/byron/RoB-2.0'"
      ]
     },
     "execution_count": 71,
     "metadata": {},
     "output_type": "execute_result"
    }
   ],
   "source": [
    "pwd"
   ]
  },
  {
   "cell_type": "code",
   "execution_count": null,
   "metadata": {
    "collapsed": true
   },
   "outputs": [],
   "source": []
  }
 ],
 "metadata": {
  "kernelspec": {
   "display_name": "Python 3",
   "language": "python",
   "name": "python3"
  },
  "language_info": {
   "codemirror_mode": {
    "name": "ipython",
    "version": 3
   },
   "file_extension": ".py",
   "mimetype": "text/x-python",
   "name": "python",
   "nbconvert_exporter": "python",
   "pygments_lexer": "ipython3",
   "version": "3.6.3"
  }
 },
 "nbformat": 4,
 "nbformat_minor": 2
}
