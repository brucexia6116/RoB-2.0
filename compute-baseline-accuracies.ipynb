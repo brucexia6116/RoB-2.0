{
 "cells": [
  {
   "cell_type": "code",
   "execution_count": 1,
   "metadata": {
    "collapsed": true
   },
   "outputs": [],
   "source": [
    "import pandas as pd\n",
    "import numpy as np\n",
    "from IPython.display import display, HTML"
   ]
  },
  {
   "cell_type": "code",
   "execution_count": 2,
   "metadata": {
    "collapsed": true
   },
   "outputs": [],
   "source": [
    "OUTCOME_TYPES = [\"all\"]#, \"mortality\", \"objective\", \"subjective\"]\n",
    "DOC_OUTCOMES = [\"ac-doc-judgment\", \"rsg-doc-judgment\"] + \\\n",
    "                    [\"boa-doc-judgment-{0}\".format(outcome_type) for outcome_type in OUTCOME_TYPES] + \\\n",
    "                    [\"bpp-doc-judgment-{0}\".format(outcome_type) for outcome_type in OUTCOME_TYPES]"
   ]
  },
  {
   "cell_type": "code",
   "execution_count": 3,
   "metadata": {
    "collapsed": true
   },
   "outputs": [],
   "source": [
    "train_df = pd.read_csv(\"data/splits/train-df.csv\")"
   ]
  },
  {
   "cell_type": "code",
   "execution_count": 4,
   "metadata": {},
   "outputs": [
    {
     "data": {
      "text/plain": [
       "'boa-doc-judgment-objective'"
      ]
     },
     "execution_count": 4,
     "metadata": {},
     "output_type": "execute_result"
    }
   ],
   "source": [
    "DOC_OUTCOMES[4]"
   ]
  },
  {
   "cell_type": "code",
   "execution_count": 4,
   "metadata": {},
   "outputs": [
    {
     "data": {
      "text/plain": [
       "Index(['Unnamed: 0', 'ac-doc-judgment', 'ac-rationale', 'boa-doc-judgment-all',\n",
       "       'boa-doc-judgment-mortality', 'boa-doc-judgment-objective',\n",
       "       'boa-doc-judgment-subjective', 'boa-rationale-all',\n",
       "       'boa-rationale-mortality', 'boa-rationale-objective',\n",
       "       'boa-rationale-subjective', 'bpp-doc-judgment-all',\n",
       "       'bpp-doc-judgment-mortality', 'bpp-doc-judgment-objective',\n",
       "       'bpp-doc-judgment-subjective', 'bpp-rationale-all',\n",
       "       'bpp-rationale-mortality', 'bpp-rationale-objective',\n",
       "       'bpp-rationale-subjective', 'doc_id', 'doi', 'pmid', 'rsg-doc-judgment',\n",
       "       'rsg-rationale', 'sentence'],\n",
       "      dtype='object')"
      ]
     },
     "execution_count": 4,
     "metadata": {},
     "output_type": "execute_result"
    }
   ],
   "source": [
    "train_df.columns"
   ]
  },
  {
   "cell_type": "code",
   "execution_count": 5,
   "metadata": {},
   "outputs": [
    {
     "ename": "IndexError",
     "evalue": "list index out of range",
     "output_type": "error",
     "traceback": [
      "\u001b[0;31m---------------------------------------------------------------------------\u001b[0m",
      "\u001b[0;31mIndexError\u001b[0m                                Traceback (most recent call last)",
      "\u001b[0;32m<ipython-input-5-0b392d08bb28>\u001b[0m in \u001b[0;36m<module>\u001b[0;34m()\u001b[0m\n\u001b[0;32m----> 1\u001b[0;31m \u001b[0mtrain_df\u001b[0m\u001b[0;34m[\u001b[0m\u001b[0mDOC_OUTCOMES\u001b[0m\u001b[0;34m[\u001b[0m\u001b[0;36m4\u001b[0m\u001b[0;34m]\u001b[0m\u001b[0;34m]\u001b[0m\u001b[0;34m.\u001b[0m\u001b[0mvalue_counts\u001b[0m\u001b[0;34m(\u001b[0m\u001b[0;34m)\u001b[0m\u001b[0;34m\u001b[0m\u001b[0m\n\u001b[0m",
      "\u001b[0;31mIndexError\u001b[0m: list index out of range"
     ]
    }
   ],
   "source": [
    "train_df[DOC_OUTCOMES[4]].value_counts()"
   ]
  },
  {
   "cell_type": "code",
   "execution_count": 6,
   "metadata": {},
   "outputs": [
    {
     "data": {
      "text/plain": [
       "(15915,)"
      ]
     },
     "execution_count": 6,
     "metadata": {},
     "output_type": "execute_result"
    }
   ],
   "source": [
    "train_df['doc_id'].unique().shape"
   ]
  },
  {
   "cell_type": "markdown",
   "metadata": {},
   "source": [
    "Group high and unclear"
   ]
  },
  {
   "cell_type": "code",
   "execution_count": 7,
   "metadata": {
    "collapsed": true
   },
   "outputs": [],
   "source": [
    "grouper = lambda x : \"high/unclear\" if x in (\"high\", \"unclear\") else x\n",
    "for outcome in DOC_OUTCOMES:\n",
    "    train_df['{0}-grouped'.format(outcome)] = train_df[outcome].apply(grouper)"
   ]
  },
  {
   "cell_type": "code",
   "execution_count": 8,
   "metadata": {},
   "outputs": [
    {
     "data": {
      "text/plain": [
       "array(['low', 'high/unclear', 'unk'], dtype=object)"
      ]
     },
     "execution_count": 8,
     "metadata": {},
     "output_type": "execute_result"
    }
   ],
   "source": [
    "train_df['{0}-grouped'.format(DOC_OUTCOMES[0])].unique()"
   ]
  },
  {
   "cell_type": "code",
   "execution_count": 10,
   "metadata": {
    "collapsed": true
   },
   "outputs": [],
   "source": [
    "doc_ids_2_doc_lbls = {}\n",
    "data_by_pmid = list(train_df.groupby(\"doc_id\"))\n",
    "for id_, doc_rows in data_by_pmid:\n",
    "    doc_ids_2_doc_lbls[id_] = {}\n",
    "    for outcome in DOC_OUTCOMES:\n",
    "        doc_ids_2_doc_lbls[id_][outcome] = doc_rows['{0}-grouped'.format(outcome)].values[0]\n",
    "    "
   ]
  },
  {
   "cell_type": "code",
   "execution_count": 11,
   "metadata": {},
   "outputs": [
    {
     "data": {
      "text/plain": [
       "{'ac-doc-judgment': 'high/unclear',\n",
       " 'boa-doc-judgment-all': 'unk',\n",
       " 'bpp-doc-judgment-all': 'unk',\n",
       " 'rsg-doc-judgment': 'low'}"
      ]
     },
     "execution_count": 11,
     "metadata": {},
     "output_type": "execute_result"
    }
   ],
   "source": [
    "doc_ids_2_doc_lbls[id_]"
   ]
  },
  {
   "cell_type": "code",
   "execution_count": 12,
   "metadata": {},
   "outputs": [
    {
     "data": {
      "text/html": [
       "<div>\n",
       "<style>\n",
       "    .dataframe thead tr:only-child th {\n",
       "        text-align: right;\n",
       "    }\n",
       "\n",
       "    .dataframe thead th {\n",
       "        text-align: left;\n",
       "    }\n",
       "\n",
       "    .dataframe tbody tr th {\n",
       "        vertical-align: top;\n",
       "    }\n",
       "</style>\n",
       "<table border=\"1\" class=\"dataframe\">\n",
       "  <thead>\n",
       "    <tr style=\"text-align: right;\">\n",
       "      <th></th>\n",
       "      <th>ac-doc-judgment</th>\n",
       "      <th>boa-doc-judgment-all</th>\n",
       "      <th>bpp-doc-judgment-all</th>\n",
       "      <th>rsg-doc-judgment</th>\n",
       "    </tr>\n",
       "  </thead>\n",
       "  <tbody>\n",
       "    <tr>\n",
       "      <th>10.1002/acp.808</th>\n",
       "      <td>high/unclear</td>\n",
       "      <td>unk</td>\n",
       "      <td>unk</td>\n",
       "      <td>unk</td>\n",
       "    </tr>\n",
       "    <tr>\n",
       "      <th>10.1002/ajim.10209</th>\n",
       "      <td>high/unclear</td>\n",
       "      <td>low</td>\n",
       "      <td>unk</td>\n",
       "      <td>high/unclear</td>\n",
       "    </tr>\n",
       "    <tr>\n",
       "      <th>10.1002/ajim.10254</th>\n",
       "      <td>unk</td>\n",
       "      <td>unk</td>\n",
       "      <td>unk</td>\n",
       "      <td>unk</td>\n",
       "    </tr>\n",
       "    <tr>\n",
       "      <th>10.1002/ajim.20103</th>\n",
       "      <td>high/unclear</td>\n",
       "      <td>unk</td>\n",
       "      <td>unk</td>\n",
       "      <td>high/unclear</td>\n",
       "    </tr>\n",
       "    <tr>\n",
       "      <th>10.1002/ajim.20192</th>\n",
       "      <td>high/unclear</td>\n",
       "      <td>unk</td>\n",
       "      <td>unk</td>\n",
       "      <td>unk</td>\n",
       "    </tr>\n",
       "  </tbody>\n",
       "</table>\n",
       "</div>"
      ],
      "text/plain": [
       "                   ac-doc-judgment boa-doc-judgment-all bpp-doc-judgment-all  \\\n",
       "10.1002/acp.808       high/unclear                  unk                  unk   \n",
       "10.1002/ajim.10209    high/unclear                  low                  unk   \n",
       "10.1002/ajim.10254             unk                  unk                  unk   \n",
       "10.1002/ajim.20103    high/unclear                  unk                  unk   \n",
       "10.1002/ajim.20192    high/unclear                  unk                  unk   \n",
       "\n",
       "                   rsg-doc-judgment  \n",
       "10.1002/acp.808                 unk  \n",
       "10.1002/ajim.10209     high/unclear  \n",
       "10.1002/ajim.10254              unk  \n",
       "10.1002/ajim.20103     high/unclear  \n",
       "10.1002/ajim.20192              unk  "
      ]
     },
     "execution_count": 12,
     "metadata": {},
     "output_type": "execute_result"
    }
   ],
   "source": [
    "doc_lbl_df = pd.DataFrame(doc_ids_2_doc_lbls)\n",
    "doc_lbl_df = doc_lbl_df.transpose()\n",
    "doc_lbl_df.head()"
   ]
  },
  {
   "cell_type": "code",
   "execution_count": 23,
   "metadata": {
    "scrolled": true
   },
   "outputs": [],
   "source": [
    "baseline_accs = {}\n",
    "for outcome in DOC_OUTCOMES:\n",
    "    baseline_accs[outcome] = doc_lbl_df[outcome].value_counts()\n",
    "# pd.DataFrame(baseline_accs, index=[0])\n",
    "baseline_df = pd.DataFrame(baseline_accs)"
   ]
  },
  {
   "cell_type": "code",
   "execution_count": 24,
   "metadata": {},
   "outputs": [
    {
     "data": {
      "text/html": [
       "<div>\n",
       "<style>\n",
       "    .dataframe thead tr:only-child th {\n",
       "        text-align: right;\n",
       "    }\n",
       "\n",
       "    .dataframe thead th {\n",
       "        text-align: left;\n",
       "    }\n",
       "\n",
       "    .dataframe tbody tr th {\n",
       "        vertical-align: top;\n",
       "    }\n",
       "</style>\n",
       "<table border=\"1\" class=\"dataframe\">\n",
       "  <thead>\n",
       "    <tr style=\"text-align: right;\">\n",
       "      <th></th>\n",
       "      <th>ac-doc-judgment</th>\n",
       "      <th>boa-doc-judgment-all</th>\n",
       "      <th>bpp-doc-judgment-all</th>\n",
       "      <th>rsg-doc-judgment</th>\n",
       "    </tr>\n",
       "  </thead>\n",
       "  <tbody>\n",
       "    <tr>\n",
       "      <th>high/unclear</th>\n",
       "      <td>9529</td>\n",
       "      <td>3770</td>\n",
       "      <td>3403</td>\n",
       "      <td>6101</td>\n",
       "    </tr>\n",
       "    <tr>\n",
       "      <th>low</th>\n",
       "      <td>5714</td>\n",
       "      <td>2503</td>\n",
       "      <td>1823</td>\n",
       "      <td>6239</td>\n",
       "    </tr>\n",
       "  </tbody>\n",
       "</table>\n",
       "</div>"
      ],
      "text/plain": [
       "              ac-doc-judgment  boa-doc-judgment-all  bpp-doc-judgment-all  \\\n",
       "high/unclear             9529                  3770                  3403   \n",
       "low                      5714                  2503                  1823   \n",
       "\n",
       "              rsg-doc-judgment  \n",
       "high/unclear              6101  \n",
       "low                       6239  "
      ]
     },
     "execution_count": 24,
     "metadata": {},
     "output_type": "execute_result"
    }
   ],
   "source": [
    "baseline_df = baseline_df.drop([\"unk\"])\n",
    "baseline_df"
   ]
  },
  {
   "cell_type": "code",
   "execution_count": 34,
   "metadata": {},
   "outputs": [
    {
     "data": {
      "text/plain": [
       "{'ac-doc-judgment': 0.62513940825296854,\n",
       " 'boa-doc-judgment-all': 0.60098836282480472,\n",
       " 'bpp-doc-judgment-all': 0.65116724071947951,\n",
       " 'rsg-doc-judgment': 0.49440842787682332}"
      ]
     },
     "execution_count": 34,
     "metadata": {},
     "output_type": "execute_result"
    }
   ],
   "source": [
    "baseline_dict = {}\n",
    "for domain in baseline_df.columns:\n",
    "    baseline_dict[domain] = baseline_df[domain][\"high/unclear\"]/baseline_df[domain].sum()\n",
    "baseline_dict"
   ]
  },
  {
   "cell_type": "code",
   "execution_count": null,
   "metadata": {
    "collapsed": true
   },
   "outputs": [],
   "source": []
  }
 ],
 "metadata": {
  "kernelspec": {
   "display_name": "Python 3",
   "language": "python",
   "name": "python3"
  },
  "language_info": {
   "codemirror_mode": {
    "name": "ipython",
    "version": 3
   },
   "file_extension": ".py",
   "mimetype": "text/x-python",
   "name": "python",
   "nbconvert_exporter": "python",
   "pygments_lexer": "ipython3",
   "version": "3.6.3"
  }
 },
 "nbformat": 4,
 "nbformat_minor": 2
}
